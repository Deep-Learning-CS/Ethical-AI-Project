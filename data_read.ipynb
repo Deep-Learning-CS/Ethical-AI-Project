{
 "cells": [
  {
   "cell_type": "code",
   "execution_count": 1,
   "id": "bd1f2796-1cce-4437-bc2a-3f39c9b59299",
   "metadata": {},
   "outputs": [
    {
     "name": "stdout",
     "output_type": "stream",
     "text": [
      "                                     id  \\\n",
      "0  0bb0c7fa-101b-4583-a5f9-9d503339141c   \n",
      "1  7159f802-6f99-4e9d-97bd-6f565a4a0fae   \n",
      "2  e6a427f1-211f-405f-bd8b-70798458d656   \n",
      "4  9c01de00-841f-4b50-9407-104e9ffb03bf   \n",
      "5  46493f44-f00a-4ffb-9cda-252ccf5fa4c6   \n",
      "\n",
      "                                             content lang  manipulative  \\\n",
      "0  Новий огляд мапи DeepState від російського вій...   uk          True   \n",
      "1  Недавно 95 квартал жёстко поглумился над русск...   ru          True   \n",
      "2  🤩\\nТим часом йде евакуація Бєлгородського авто...   uk          True   \n",
      "4  Расчёты 122-мм САУ 2С1 \"Гвоздика\" 132-й бригад...   ru          True   \n",
      "5  Апартаменти\\n триповерхова келія Паші Лєбєдя, ...   uk          True   \n",
      "\n",
      "                             techniques  \\\n",
      "0        ['euphoria' 'loaded_language']   \n",
      "1  ['loaded_language' 'cherry_picking']   \n",
      "2        ['loaded_language' 'euphoria']   \n",
      "4                   ['loaded_language']   \n",
      "5                   ['loaded_language']   \n",
      "\n",
      "                                       trigger_words  \n",
      "0  [array([27, 63]) array([65, 88]) array([ 90, 1...  \n",
      "1  [array([ 0, 40]) array([123, 137]) array([180,...  \n",
      "2                                [array([ 55, 100])]  \n",
      "4                                [array([114, 144])]  \n",
      "5              [array([ 94, 108]) array([208, 227])]  \n"
     ]
    }
   ],
   "source": [
    "import pandas as pd\n",
    "\n",
    "#pd.set_option('display.max_columns', None) \n",
    "#pd.set_option('display.max_colwidth', None)\n",
    "\n",
    "csv_file = './unlp-2025-shared-task/data/span_detection/train.csv'\n",
    "tech_csv = './unlp-2025-shared-task/data/techniques_classification/train.csv'\n",
    "\n",
    "spandf = pd.read_csv(csv_file)\n",
    "techclass = pd.read_csv(tech_csv)\n",
    "\n",
    "manipulative_posts = spandf[spandf['manipulative'] == True]\n",
    "print(manipulative_posts.head())"
   ]
  },
  {
   "cell_type": "code",
   "execution_count": null,
   "id": "224e1d16-88ba-40f5-8419-4a013ffbf42e",
   "metadata": {},
   "outputs": [],
   "source": []
  },
  {
   "cell_type": "code",
   "execution_count": null,
   "id": "fc76337e-ce26-4dca-afcf-49507d56c49c",
   "metadata": {},
   "outputs": [],
   "source": []
  }
 ],
 "metadata": {
  "kernelspec": {
   "display_name": "Python 3 (ipykernel)",
   "language": "python",
   "name": "python3"
  },
  "language_info": {
   "codemirror_mode": {
    "name": "ipython",
    "version": 3
   },
   "file_extension": ".py",
   "mimetype": "text/x-python",
   "name": "python",
   "nbconvert_exporter": "python",
   "pygments_lexer": "ipython3",
   "version": "3.9.13"
  }
 },
 "nbformat": 4,
 "nbformat_minor": 5
}
